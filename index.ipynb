{
 "cells": [
  {
   "cell_type": "markdown",
   "metadata": {},
   "source": [
    "# SynChro Quick start on Binder\n",
    "\n",
    "Must be actively launched from https://github.com/fomightez/synchro-binder for this to work as intended.\n",
    "\n",
    "SynChro Quick start from [here](http://www.lcqb.upmc.fr/CHROnicle/SynChro.html)\n",
    "\n",
    "Everything is already installed and ready to go if launched from [here](https://github.com/fomightez/synchro-binder).\n",
    "\n",
    "----\n",
    "\n",
    "This notebook works through the Quick start from [here](http://www.lcqb.upmc.fr/CHROnicle/SynChro.html).\n",
    "\n",
    "Click on each cell and press `shift-enter` or the run button to run each. Or use alternatives under 'Cell' in the menu above this notebook.\n",
    "\n",
    "You can get to the Jupyter Dashboard by clicking the the Jupyter logo in the upper left corner of this active notebook. There you can see the files in a typical GUI file handling interface. Or simply add a cell at any point and type `ls` to see a listing of the files in the current working directory."
   ]
  },
  {
   "cell_type": "markdown",
   "metadata": {},
   "source": [
    "## Quick start\n",
    "\n",
    "Run the next cell to prepare things. It gets the software and sets up example files."
   ]
  },
  {
   "cell_type": "code",
   "execution_count": 1,
   "metadata": {},
   "outputs": [
    {
     "name": "stdout",
     "output_type": "stream",
     "text": [
      "  % Total    % Received % Xferd  Average Speed   Time    Time     Time  Current\n",
      "                                 Dload  Upload   Total   Spent    Left  Speed\n",
      "100  474M  100  474M    0     0  15.9M      0  0:00:29  0:00:29 --:--:-- 17.8M\n",
      "Archive:  CHROnicle.zip\n",
      "   creating: CHROnicle/\n",
      "   creating: CHROnicle/Programs/\n",
      "   creating: CHROnicle/Programs/0Convert2InputF/\n",
      "  inflating: CHROnicle/Programs/0Convert2InputF/ChFile.py  \n",
      " extracting: CHROnicle/Programs/0Convert2InputF/.directory  \n",
      "  inflating: CHROnicle/Programs/0Convert2InputF/ConvertGbk.py  \n",
      "  inflating: CHROnicle/Programs/0Convert2InputF/ConvertEMBL.py  \n",
      "  inflating: CHROnicle/Programs/0Convert2InputF/ConvertFasta.py  \n",
      "  inflating: CHROnicle/Programs/0Convert2InputF/README_Convert.txt  \n",
      "   creating: CHROnicle/Yeast/\n",
      "   creating: CHROnicle/Yeast/00rawGenom/\n",
      "   creating: CHROnicle/Yeast/00rawGenom/LachanceaWaltii/\n",
      "  inflating: CHROnicle/Yeast/00rawGenom/LachanceaWaltii/LAWA.cen  \n",
      "  inflating: CHROnicle/Yeast/00rawGenom/LachanceaWaltii/KLWA.fasta  \n",
      "   creating: CHROnicle/Yeast/00rawGenom/ZygosaccharomycesRouxii/\n",
      "  inflating: CHROnicle/Yeast/00rawGenom/ZygosaccharomycesRouxii/ZYRO.fasta  \n",
      "   creating: CHROnicle/Yeast/00rawGenom/CandidaTropicalis/\n",
      "  inflating: CHROnicle/Yeast/00rawGenom/CandidaTropicalis/Catr03-GG692397.embl  \n",
      "  inflating: CHROnicle/Yeast/00rawGenom/CandidaTropicalis/Catr09-GG692403.embl  \n",
      "  inflating: CHROnicle/Yeast/00rawGenom/CandidaTropicalis/Catr22-GG692416.embl  \n",
      "  inflating: CHROnicle/Yeast/00rawGenom/CandidaTropicalis/Catr21-GG692415.embl  \n",
      "  inflating: CHROnicle/Yeast/00rawGenom/CandidaTropicalis/Catr05-GG692399.embl  \n",
      "  inflating: CHROnicle/Yeast/00rawGenom/CandidaTropicalis/Catr08-GG692402.embl  \n",
      "  inflating: CHROnicle/Yeast/00rawGenom/CandidaTropicalis/Catr06-GG692400.embl  \n",
      "  inflating: CHROnicle/Yeast/00rawGenom/CandidaTropicalis/Catr11-GG692405.embl  \n",
      "  inflating: CHROnicle/Yeast/00rawGenom/CandidaTropicalis/Catr13-GG692407.embl  \n",
      "  inflating: CHROnicle/Yeast/00rawGenom/CandidaTropicalis/Catr14-GG692408.embl  \n",
      "  inflating: CHROnicle/Yeast/00rawGenom/CandidaTropicalis/Catr12-GG692406.embl  \n",
      "  inflating: CHROnicle/Yeast/00rawGenom/CandidaTropicalis/Catr10-GG692404.embl  \n",
      "  inflating: CHROnicle/Yeast/00rawGenom/CandidaTropicalis/Catr20-GG692414.embl  \n",
      "  inflating: CHROnicle/Yeast/00rawGenom/CandidaTropicalis/Catr18-GG692412.embl  \n",
      "  inflating: CHROnicle/Yeast/00rawGenom/CandidaTropicalis/Catr15-GG692409.embl  \n",
      "  inflating: CHROnicle/Yeast/00rawGenom/CandidaTropicalis/Catr07-GG692401.embl  \n",
      "  inflating: CHROnicle/Yeast/00rawGenom/CandidaTropicalis/Catr01-GG692395.embl  \n",
      "  inflating: CHROnicle/Yeast/00rawGenom/CandidaTropicalis/Catr02-GG692396.embl  \n",
      "  inflating: CHROnicle/Yeast/00rawGenom/CandidaTropicalis/Catr17-GG692411.embl  \n",
      "  inflating: CHROnicle/Yeast/00rawGenom/CandidaTropicalis/Catr04-GG692398.embl  \n",
      "   creating: CHROnicle/Yeast/01Genomes/\n",
      "  inflating: CHROnicle/Yeast/01Genomes/CAGL.ch  \n",
      "  inflating: CHROnicle/Yeast/01Genomes/LAKL.prt  \n",
      "  inflating: CHROnicle/Yeast/01Genomes/LAKL.def  \n",
      "  inflating: CHROnicle/Yeast/01Genomes/SACE.prt  \n",
      "  inflating: CHROnicle/Yeast/01Genomes/SACE.ch  \n",
      "  inflating: CHROnicle/Yeast/01Genomes/ZYRO.def  \n",
      "  inflating: CHROnicle/Yeast/01Genomes/CAGL.prt  \n",
      "  inflating: CHROnicle/Yeast/01Genomes/ZYRO.prt  \n",
      "  inflating: CHROnicle/Yeast/01Genomes/LAKL.ch  \n",
      "  inflating: CHROnicle/Yeast/01Genomes/CAAL.prt  \n",
      "  inflating: CHROnicle/Yeast/01Genomes/CAAL.def  \n",
      "  inflating: CHROnicle/Yeast/01Genomes/ZYRO.ch  \n",
      "  inflating: CHROnicle/Yeast/01Genomes/CAGL.def  \n",
      "  inflating: CHROnicle/Yeast/01Genomes/CAAL.ch  \n",
      "  inflating: CHROnicle/Yeast/01Genomes/SACE.def  \n",
      "   creating: CHROnicle/Vertebrate/\n",
      "   creating: CHROnicle/Vertebrate/00rawGenom/\n",
      "   creating: CHROnicle/Vertebrate/00rawGenom/GallusGallus/\n",
      "  inflating: CHROnicle/Vertebrate/00rawGenom/GallusGallus/Gallus_gallus.0.dat  \n",
      "  inflating: CHROnicle/Vertebrate/00rawGenom/GallusGallus/Gallus_gallus.1000.dat  \n",
      "   creating: CHROnicle/Vertebrate/01Genomes/\n",
      "  inflating: CHROnicle/Vertebrate/01Genomes/MACM.prt  \n",
      "  inflating: CHROnicle/Vertebrate/01Genomes/HOMS.def  \n",
      "  inflating: CHROnicle/Vertebrate/01Genomes/MUSM.prt  \n",
      "  inflating: CHROnicle/Vertebrate/01Genomes/MUSM.ch  \n",
      "  inflating: CHROnicle/Vertebrate/01Genomes/MUSM.def  \n",
      "  inflating: CHROnicle/Vertebrate/01Genomes/MACM.def  \n",
      "  inflating: CHROnicle/Vertebrate/01Genomes/MACM.ch  \n",
      "  inflating: CHROnicle/Vertebrate/01Genomes/HOMS.ch  \n",
      "  inflating: CHROnicle/Vertebrate/01Genomes/HOMS.prt  \n",
      "  % Total    % Received % Xferd  Average Speed   Time    Time     Time  Current\n",
      "                                 Dload  Upload   Total   Spent    Left  Speed\n",
      "100  993k  100  993k    0     0   621k      0  0:00:01  0:00:01 --:--:--  621k\n",
      "Archive:  SynChro_linux.zip\n",
      "   creating: 1SynChro/\n",
      "  inflating: 1SynChro/README_SynChro.txt  \n",
      "   creating: 1SynChro/Summary/\n",
      "  inflating: 1SynChro/Summary/NbBlocksDiv.sh  \n",
      "  inflating: 1SynChro/Summary/Summary.sh  \n",
      "  inflating: 1SynChro/Summary/PercentGenomfDiv.sh  \n",
      "  inflating: 1SynChro/Summary/IntrachromoRea.sh  \n",
      "  inflating: 1SynChro/n03Summary.py  \n",
      " extracting: 1SynChro/.directory     \n",
      "  inflating: 1SynChro/LICENSE.txt    \n",
      "  inflating: 1SynChro/n05DotPlot.py  \n",
      "  inflating: 1SynChro/go_syntorthdist  \n",
      "  inflating: 1SynChro/get.syntonorth.awk  \n",
      "  inflating: 1SynChro/InterOrtho.py  \n",
      "  inflating: 1SynChro/n02Homologs.py  \n",
      "  inflating: 1SynChro/n06G1fG2.py    \n",
      "  inflating: 1SynChro/go_orthologs   \n",
      "  inflating: 1SynChro/get.syntorth2pairs.awk  \n",
      "  inflating: 1SynChro/SynChro.py     \n",
      "   creating: 1SynChro/Opscan/\n",
      "  inflating: 1SynChro/Opscan/INSTALLATION_COMPILATION  \n",
      "  inflating: 1SynChro/Opscan/README.opscan  \n",
      "   creating: 1SynChro/Opscan/bin/\n",
      "  inflating: 1SynChro/Opscan/bin/opscan  \n",
      "   creating: 1SynChro/Opscan/bin/CVS/\n",
      " extracting: 1SynChro/Opscan/bin/CVS/Entries  \n",
      " extracting: 1SynChro/Opscan/bin/CVS/Root  \n",
      "   creating: 1SynChro/Opscan/bin/CVS/PaxHeader/\n",
      "  inflating: 1SynChro/Opscan/bin/CVS/PaxHeader/Entries  \n",
      "  inflating: 1SynChro/Opscan/bin/CVS/PaxHeader/Root  \n",
      "  inflating: 1SynChro/Opscan/bin/CVS/PaxHeader/Repository  \n",
      " extracting: 1SynChro/Opscan/bin/CVS/Repository  \n",
      "  inflating: 1SynChro/Opscan/bin/opscan_osx  \n",
      "   creating: 1SynChro/Opscan/bin/PaxHeader/\n",
      "  inflating: 1SynChro/Opscan/bin/PaxHeader/opscan  \n",
      "  inflating: 1SynChro/Opscan/bin/PaxHeader/CVS  \n",
      "  inflating: 1SynChro/Opscan/bin/PaxHeader/opscan_osx  \n",
      "   creating: 1SynChro/Opscan/src/\n",
      "  inflating: 1SynChro/Opscan/src/combi.h  \n",
      "  inflating: 1SynChro/Opscan/src/util.c  \n",
      "  inflating: 1SynChro/Opscan/src/fasta_io.c  \n",
      "  inflating: 1SynChro/Opscan/src/Gmach.h  \n",
      "  inflating: 1SynChro/Opscan/src/correl.awk  \n",
      "  inflating: 1SynChro/Opscan/src/opscan_proto.h  \n",
      "  inflating: 1SynChro/Opscan/src/fastp.h  \n",
      "  inflating: 1SynChro/Opscan/src/fasta_io.h  \n",
      "  inflating: 1SynChro/Opscan/src/bali.h  \n",
      "  inflating: 1SynChro/Opscan/src/opscan.c  \n",
      "  inflating: 1SynChro/Opscan/src/compile_O3  \n",
      "  inflating: 1SynChro/Opscan/src/operon.h  \n",
      "   creating: 1SynChro/Opscan/src/CVS/\n",
      "  inflating: 1SynChro/Opscan/src/CVS/Entries  \n",
      " extracting: 1SynChro/Opscan/src/CVS/Root  \n",
      "   creating: 1SynChro/Opscan/src/CVS/PaxHeader/\n",
      "  inflating: 1SynChro/Opscan/src/CVS/PaxHeader/Entries  \n",
      "  inflating: 1SynChro/Opscan/src/CVS/PaxHeader/Root  \n",
      "  inflating: 1SynChro/Opscan/src/CVS/PaxHeader/Repository  \n",
      " extracting: 1SynChro/Opscan/src/CVS/Repository  \n",
      "  inflating: 1SynChro/Opscan/src/fastp_core.c  \n",
      "  inflating: 1SynChro/Opscan/src/fastp_core.h  \n",
      "  inflating: 1SynChro/Opscan/src/fastp_hash.c  \n",
      "  inflating: 1SynChro/Opscan/src/Makefile  \n",
      "  inflating: 1SynChro/Opscan/src/Gtypes.h  \n",
      "  inflating: 1SynChro/Opscan/src/stat.h  \n",
      "  inflating: 1SynChro/Opscan/src/combi.c  \n",
      "  inflating: 1SynChro/Opscan/src/operon.c  \n",
      "  inflating: 1SynChro/Opscan/src/class.h  \n",
      "  inflating: 1SynChro/Opscan/src/opscan_help.c  \n",
      "  inflating: 1SynChro/Opscan/src/basic.mk  \n",
      "   creating: 1SynChro/Opscan/src/PaxHeader/\n",
      "  inflating: 1SynChro/Opscan/src/PaxHeader/combi.h  \n",
      "  inflating: 1SynChro/Opscan/src/PaxHeader/util.c  \n",
      "  inflating: 1SynChro/Opscan/src/PaxHeader/fasta_io.c  \n",
      "  inflating: 1SynChro/Opscan/src/PaxHeader/Gmach.h  \n",
      "  inflating: 1SynChro/Opscan/src/PaxHeader/correl.awk  \n",
      "  inflating: 1SynChro/Opscan/src/PaxHeader/opscan_proto.h  \n",
      "  inflating: 1SynChro/Opscan/src/PaxHeader/fastp.h  \n",
      "  inflating: 1SynChro/Opscan/src/PaxHeader/fasta_io.h  \n",
      "  inflating: 1SynChro/Opscan/src/PaxHeader/bali.h  \n",
      "  inflating: 1SynChro/Opscan/src/PaxHeader/opscan.c  \n",
      "  inflating: 1SynChro/Opscan/src/PaxHeader/compile_O3  \n",
      "  inflating: 1SynChro/Opscan/src/PaxHeader/operon.h  \n",
      "  inflating: 1SynChro/Opscan/src/PaxHeader/CVS  \n",
      "  inflating: 1SynChro/Opscan/src/PaxHeader/fastp_core.c  \n",
      "  inflating: 1SynChro/Opscan/src/PaxHeader/fastp_core.h  \n",
      "  inflating: 1SynChro/Opscan/src/PaxHeader/fastp_hash.c  \n",
      "  inflating: 1SynChro/Opscan/src/PaxHeader/Makefile  \n",
      "  inflating: 1SynChro/Opscan/src/PaxHeader/Gtypes.h  \n",
      "  inflating: 1SynChro/Opscan/src/PaxHeader/stat.h  \n",
      "  inflating: 1SynChro/Opscan/src/PaxHeader/combi.c  \n",
      "  inflating: 1SynChro/Opscan/src/PaxHeader/operon.c  \n",
      "  inflating: 1SynChro/Opscan/src/PaxHeader/class.h  \n",
      "  inflating: 1SynChro/Opscan/src/PaxHeader/opscan_help.c  \n",
      "  inflating: 1SynChro/Opscan/src/PaxHeader/basic.mk  \n",
      "  inflating: 1SynChro/Opscan/src/PaxHeader/fastp_hash.h  \n",
      "  inflating: 1SynChro/Opscan/src/PaxHeader/opscan.h  \n",
      "  inflating: 1SynChro/Opscan/src/PaxHeader/class.c  \n",
      "  inflating: 1SynChro/Opscan/src/PaxHeader/tags.h  \n",
      "  inflating: 1SynChro/Opscan/src/PaxHeader/util.h  \n",
      "  inflating: 1SynChro/Opscan/src/PaxHeader/stat.c  \n",
      "  inflating: 1SynChro/Opscan/src/PaxHeader/bali_mat.c  \n",
      "  inflating: 1SynChro/Opscan/src/PaxHeader/opscan_help.h  \n",
      "  inflating: 1SynChro/Opscan/src/PaxHeader/bali_align.c  \n",
      "  inflating: 1SynChro/Opscan/src/fastp_hash.h  \n",
      "  inflating: 1SynChro/Opscan/src/opscan.h  \n",
      "  inflating: 1SynChro/Opscan/src/class.c  \n",
      "  inflating: 1SynChro/Opscan/src/tags.h  \n",
      "  inflating: 1SynChro/Opscan/src/util.h  \n",
      "  inflating: 1SynChro/Opscan/src/stat.c  \n",
      "  inflating: 1SynChro/Opscan/src/bali_mat.c  \n",
      "  inflating: 1SynChro/Opscan/src/opscan_help.h  \n",
      "  inflating: 1SynChro/Opscan/src/bali_align.c  \n",
      "   creating: 1SynChro/Opscan/CVS/\n",
      "  inflating: 1SynChro/Opscan/CVS/Entries  \n",
      " extracting: 1SynChro/Opscan/CVS/Root  \n",
      "  inflating: 1SynChro/Opscan/CVS/Entries.Log  \n",
      "   creating: 1SynChro/Opscan/CVS/PaxHeader/\n",
      "  inflating: 1SynChro/Opscan/CVS/PaxHeader/Entries  \n",
      "  inflating: 1SynChro/Opscan/CVS/PaxHeader/Root  \n",
      "  inflating: 1SynChro/Opscan/CVS/PaxHeader/Entries.Log  \n",
      "  inflating: 1SynChro/Opscan/CVS/PaxHeader/Repository  \n",
      " extracting: 1SynChro/Opscan/CVS/Repository  \n",
      "   creating: 1SynChro/Opscan/misc/\n",
      "   creating: 1SynChro/Opscan/misc/CVS/\n",
      " extracting: 1SynChro/Opscan/misc/CVS/Entries  \n",
      " extracting: 1SynChro/Opscan/misc/CVS/Root  \n",
      " extracting: 1SynChro/Opscan/misc/CVS/Entries.Log  \n",
      "   creating: 1SynChro/Opscan/misc/CVS/PaxHeader/\n",
      "  inflating: 1SynChro/Opscan/misc/CVS/PaxHeader/Entries  \n",
      "  inflating: 1SynChro/Opscan/misc/CVS/PaxHeader/Root  \n",
      "  inflating: 1SynChro/Opscan/misc/CVS/PaxHeader/Entries.Log  \n",
      "  inflating: 1SynChro/Opscan/misc/CVS/PaxHeader/Repository  \n",
      " extracting: 1SynChro/Opscan/misc/CVS/Repository  \n",
      "   creating: 1SynChro/Opscan/misc/PaxHeader/\n",
      "  inflating: 1SynChro/Opscan/misc/PaxHeader/CVS  \n",
      "  inflating: 1SynChro/Opscan/misc/PaxHeader/util_awk  \n",
      "   creating: 1SynChro/Opscan/misc/util_awk/\n",
      "  inflating: 1SynChro/Opscan/misc/util_awk/extrait_fasta_bornes.awk  \n",
      "  inflating: 1SynChro/Opscan/misc/util_awk/fasta_len.awk  \n",
      "  inflating: 1SynChro/Opscan/misc/util_awk/a.awk  \n",
      "   creating: 1SynChro/Opscan/misc/util_awk/CVS/\n",
      "  inflating: 1SynChro/Opscan/misc/util_awk/CVS/Entries  \n",
      " extracting: 1SynChro/Opscan/misc/util_awk/CVS/Root  \n",
      "   creating: 1SynChro/Opscan/misc/util_awk/CVS/PaxHeader/\n",
      "  inflating: 1SynChro/Opscan/misc/util_awk/CVS/PaxHeader/Entries  \n",
      "  inflating: 1SynChro/Opscan/misc/util_awk/CVS/PaxHeader/Root  \n",
      "  inflating: 1SynChro/Opscan/misc/util_awk/CVS/PaxHeader/Repository  \n",
      " extracting: 1SynChro/Opscan/misc/util_awk/CVS/Repository  \n",
      "   creating: 1SynChro/Opscan/misc/util_awk/PaxHeader/\n",
      "  inflating: 1SynChro/Opscan/misc/util_awk/PaxHeader/extrait_fasta_bornes.awk  \n",
      "  inflating: 1SynChro/Opscan/misc/util_awk/PaxHeader/fasta_len.awk  \n",
      "  inflating: 1SynChro/Opscan/misc/util_awk/PaxHeader/a.awk  \n",
      "  inflating: 1SynChro/Opscan/misc/util_awk/PaxHeader/CVS  \n",
      "  inflating: 1SynChro/Opscan/Makefile  \n",
      "   creating: 1SynChro/Opscan/tests/\n",
      "   creating: 1SynChro/Opscan/tests/CVS/\n",
      "  inflating: 1SynChro/Opscan/tests/CVS/Entries  \n",
      " extracting: 1SynChro/Opscan/tests/CVS/Root  \n",
      "   creating: 1SynChro/Opscan/tests/CVS/PaxHeader/\n",
      "  inflating: 1SynChro/Opscan/tests/CVS/PaxHeader/Entries  \n",
      "  inflating: 1SynChro/Opscan/tests/CVS/PaxHeader/Root  \n",
      "  inflating: 1SynChro/Opscan/tests/CVS/PaxHeader/Repository  \n",
      " extracting: 1SynChro/Opscan/tests/CVS/Repository  \n",
      "  inflating: 1SynChro/Opscan/tests/urur.10.prt  \n",
      "   creating: 1SynChro/Opscan/tests/PaxHeader/\n",
      "  inflating: 1SynChro/Opscan/tests/PaxHeader/CVS  \n",
      "  inflating: 1SynChro/Opscan/tests/PaxHeader/urur.10.prt  \n",
      "  inflating: 1SynChro/Opscan/tests/PaxHeader/mutS.fasta  \n",
      "  inflating: 1SynChro/Opscan/tests/PaxHeader/test.out  \n",
      "  inflating: 1SynChro/Opscan/tests/PaxHeader/test_operon.db  \n",
      "  inflating: 1SynChro/Opscan/tests/mutS.fasta  \n",
      "  inflating: 1SynChro/Opscan/tests/test.out  \n",
      "  inflating: 1SynChro/Opscan/tests/test_operon.db  \n",
      "  inflating: 1SynChro/Opscan/BLOSUM60  \n",
      "   creating: 1SynChro/Opscan/doc/\n",
      "  inflating: 1SynChro/Opscan/doc/opscan.doc  \n",
      "  inflating: 1SynChro/Opscan/doc/opscan.doc.ps  \n",
      "   creating: 1SynChro/Opscan/doc/CVS/\n",
      "  inflating: 1SynChro/Opscan/doc/CVS/Entries  \n",
      " extracting: 1SynChro/Opscan/doc/CVS/Root  \n",
      "   creating: 1SynChro/Opscan/doc/CVS/PaxHeader/\n",
      "  inflating: 1SynChro/Opscan/doc/CVS/PaxHeader/Entries  \n",
      "  inflating: 1SynChro/Opscan/doc/CVS/PaxHeader/Root  \n",
      "  inflating: 1SynChro/Opscan/doc/CVS/PaxHeader/Repository  \n",
      " extracting: 1SynChro/Opscan/doc/CVS/Repository  \n",
      "  inflating: 1SynChro/Opscan/doc/opscan.doc.pdf  \n",
      "   creating: 1SynChro/Opscan/doc/PaxHeader/\n",
      "  inflating: 1SynChro/Opscan/doc/PaxHeader/opscan.doc  \n",
      "  inflating: 1SynChro/Opscan/doc/PaxHeader/opscan.doc.ps  \n",
      "  inflating: 1SynChro/Opscan/doc/PaxHeader/CVS  \n",
      "  inflating: 1SynChro/Opscan/doc/PaxHeader/opscan.doc.pdf  \n",
      "   creating: 1SynChro/Opscan/matrices/\n",
      "  inflating: 1SynChro/Opscan/matrices/BLOSUM75  \n",
      "  inflating: 1SynChro/Opscan/matrices/BLOSUM90  \n",
      "  inflating: 1SynChro/Opscan/matrices/PAM310  \n",
      "  inflating: 1SynChro/Opscan/matrices/BLOSUM80  \n",
      "  inflating: 1SynChro/Opscan/matrices/PAM500  \n",
      "  inflating: 1SynChro/Opscan/matrices/BLOSUM55  \n",
      "  inflating: 1SynChro/Opscan/matrices/PAM270  \n",
      "  inflating: 1SynChro/Opscan/matrices/PAM100  \n",
      "  inflating: 1SynChro/Opscan/matrices/PAM170  \n",
      "  inflating: 1SynChro/Opscan/matrices/BLOSUM40  \n",
      "  inflating: 1SynChro/Opscan/matrices/PAM250  \n",
      "  inflating: 1SynChro/Opscan/matrices/PAM410  \n",
      "  inflating: 1SynChro/Opscan/matrices/PAM320  \n",
      "  inflating: 1SynChro/Opscan/matrices/BLOSUM62  \n",
      "  inflating: 1SynChro/Opscan/matrices/PAM110  \n",
      "  inflating: 1SynChro/Opscan/matrices/ADN  \n",
      "  inflating: 1SynChro/Opscan/matrices/PAM210  \n",
      "  inflating: 1SynChro/Opscan/matrices/PAM160  \n",
      "  inflating: 1SynChro/Opscan/matrices/PAM230  \n",
      "  inflating: 1SynChro/Opscan/matrices/PAM300  \n",
      "  inflating: 1SynChro/Opscan/matrices/PAM480  \n",
      "  inflating: 1SynChro/Opscan/matrices/PAM400  \n",
      "  inflating: 1SynChro/Opscan/matrices/PAM290  \n",
      "  inflating: 1SynChro/Opscan/matrices/PAM330  \n",
      "  inflating: 1SynChro/Opscan/matrices/PAM470  \n",
      "   creating: 1SynChro/Opscan/matrices/CVS/\n",
      "  inflating: 1SynChro/Opscan/matrices/CVS/Entries  \n",
      " extracting: 1SynChro/Opscan/matrices/CVS/Root  \n",
      "   creating: 1SynChro/Opscan/matrices/CVS/PaxHeader/\n",
      "  inflating: 1SynChro/Opscan/matrices/CVS/PaxHeader/Entries  \n",
      "  inflating: 1SynChro/Opscan/matrices/CVS/PaxHeader/Root  \n",
      "  inflating: 1SynChro/Opscan/matrices/CVS/PaxHeader/Repository  \n",
      " extracting: 1SynChro/Opscan/matrices/CVS/Repository  \n",
      "  inflating: 1SynChro/Opscan/matrices/PAM490  \n",
      "  inflating: 1SynChro/Opscan/matrices/PAM440  \n",
      "  inflating: 1SynChro/Opscan/matrices/BLOSUM60  \n",
      "  inflating: 1SynChro/Opscan/matrices/BLOSUM85  \n",
      "  inflating: 1SynChro/Opscan/matrices/PAM220  \n",
      "  inflating: 1SynChro/Opscan/matrices/PAM350  \n",
      "  inflating: 1SynChro/Opscan/matrices/PAM200  \n",
      "  inflating: 1SynChro/Opscan/matrices/BLOSUM65  \n",
      "  inflating: 1SynChro/Opscan/matrices/PAM340  \n",
      "   creating: 1SynChro/Opscan/matrices/PaxHeader/\n",
      "  inflating: 1SynChro/Opscan/matrices/PaxHeader/BLOSUM75  \n",
      "  inflating: 1SynChro/Opscan/matrices/PaxHeader/BLOSUM90  \n",
      "  inflating: 1SynChro/Opscan/matrices/PaxHeader/PAM310  \n",
      "  inflating: 1SynChro/Opscan/matrices/PaxHeader/BLOSUM80  \n",
      "  inflating: 1SynChro/Opscan/matrices/PaxHeader/PAM500  \n",
      "  inflating: 1SynChro/Opscan/matrices/PaxHeader/BLOSUM55  \n",
      "  inflating: 1SynChro/Opscan/matrices/PaxHeader/PAM270  \n",
      "  inflating: 1SynChro/Opscan/matrices/PaxHeader/PAM100  \n",
      "  inflating: 1SynChro/Opscan/matrices/PaxHeader/PAM170  \n",
      "  inflating: 1SynChro/Opscan/matrices/PaxHeader/BLOSUM40  \n",
      "  inflating: 1SynChro/Opscan/matrices/PaxHeader/PAM250  \n",
      "  inflating: 1SynChro/Opscan/matrices/PaxHeader/PAM410  \n",
      "  inflating: 1SynChro/Opscan/matrices/PaxHeader/PAM320  \n",
      "  inflating: 1SynChro/Opscan/matrices/PaxHeader/BLOSUM62  \n",
      "  inflating: 1SynChro/Opscan/matrices/PaxHeader/PAM110  \n",
      "  inflating: 1SynChro/Opscan/matrices/PaxHeader/ADN  \n",
      "  inflating: 1SynChro/Opscan/matrices/PaxHeader/PAM210  \n",
      "  inflating: 1SynChro/Opscan/matrices/PaxHeader/PAM160  \n",
      "  inflating: 1SynChro/Opscan/matrices/PaxHeader/PAM230  \n",
      "  inflating: 1SynChro/Opscan/matrices/PaxHeader/PAM300  \n",
      "  inflating: 1SynChro/Opscan/matrices/PaxHeader/PAM480  \n",
      "  inflating: 1SynChro/Opscan/matrices/PaxHeader/PAM400  \n",
      "  inflating: 1SynChro/Opscan/matrices/PaxHeader/PAM290  \n",
      "  inflating: 1SynChro/Opscan/matrices/PaxHeader/PAM330  \n",
      "  inflating: 1SynChro/Opscan/matrices/PaxHeader/PAM470  \n",
      "  inflating: 1SynChro/Opscan/matrices/PaxHeader/CVS  \n",
      "  inflating: 1SynChro/Opscan/matrices/PaxHeader/PAM490  \n",
      "  inflating: 1SynChro/Opscan/matrices/PaxHeader/PAM440  \n",
      "  inflating: 1SynChro/Opscan/matrices/PaxHeader/BLOSUM60  \n",
      "  inflating: 1SynChro/Opscan/matrices/PaxHeader/BLOSUM85  \n",
      "  inflating: 1SynChro/Opscan/matrices/PaxHeader/PAM220  \n",
      "  inflating: 1SynChro/Opscan/matrices/PaxHeader/PAM350  \n",
      "  inflating: 1SynChro/Opscan/matrices/PaxHeader/PAM200  \n",
      "  inflating: 1SynChro/Opscan/matrices/PaxHeader/BLOSUM65  \n",
      "  inflating: 1SynChro/Opscan/matrices/PaxHeader/PAM340  \n",
      "  inflating: 1SynChro/Opscan/matrices/PaxHeader/PAM120  \n",
      "  inflating: 1SynChro/Opscan/matrices/PaxHeader/PAM360  \n",
      "  inflating: 1SynChro/Opscan/matrices/PaxHeader/PAM150  \n",
      "  inflating: 1SynChro/Opscan/matrices/PaxHeader/BLOSUM50  \n",
      "  inflating: 1SynChro/Opscan/matrices/PaxHeader/PAM190  \n",
      "  inflating: 1SynChro/Opscan/matrices/PaxHeader/PAM450  \n",
      "  inflating: 1SynChro/Opscan/matrices/PaxHeader/PAM180  \n",
      "  inflating: 1SynChro/Opscan/matrices/PaxHeader/PAM380  \n",
      "  inflating: 1SynChro/Opscan/matrices/PaxHeader/PAM130  \n",
      "  inflating: 1SynChro/Opscan/matrices/PaxHeader/PAM260  \n",
      "  inflating: 1SynChro/Opscan/matrices/PaxHeader/BLOSUM45  \n",
      "  inflating: 1SynChro/Opscan/matrices/PaxHeader/BLOSUM30  \n",
      "  inflating: 1SynChro/Opscan/matrices/PaxHeader/PAM140  \n",
      "  inflating: 1SynChro/Opscan/matrices/PaxHeader/PAM280  \n",
      "  inflating: 1SynChro/Opscan/matrices/PaxHeader/BLOSUM70  \n",
      "  inflating: 1SynChro/Opscan/matrices/PaxHeader/PAM420  \n",
      "  inflating: 1SynChro/Opscan/matrices/PaxHeader/PAM460  \n",
      "  inflating: 1SynChro/Opscan/matrices/PaxHeader/BLOSUM35  \n",
      "  inflating: 1SynChro/Opscan/matrices/PaxHeader/PAM390  \n",
      "  inflating: 1SynChro/Opscan/matrices/PaxHeader/PAM370  \n",
      "  inflating: 1SynChro/Opscan/matrices/PaxHeader/PAM240  \n",
      "  inflating: 1SynChro/Opscan/matrices/PaxHeader/PAM430  \n",
      "  inflating: 1SynChro/Opscan/matrices/PAM120  \n",
      "  inflating: 1SynChro/Opscan/matrices/PAM360  \n",
      "  inflating: 1SynChro/Opscan/matrices/PAM150  \n",
      "  inflating: 1SynChro/Opscan/matrices/BLOSUM50  \n",
      "  inflating: 1SynChro/Opscan/matrices/PAM190  \n",
      "  inflating: 1SynChro/Opscan/matrices/PAM450  \n",
      "  inflating: 1SynChro/Opscan/matrices/PAM180  \n",
      "  inflating: 1SynChro/Opscan/matrices/PAM380  \n",
      "  inflating: 1SynChro/Opscan/matrices/PAM130  \n",
      "  inflating: 1SynChro/Opscan/matrices/PAM260  \n",
      "  inflating: 1SynChro/Opscan/matrices/BLOSUM45  \n",
      "  inflating: 1SynChro/Opscan/matrices/BLOSUM30  \n",
      "  inflating: 1SynChro/Opscan/matrices/PAM140  \n",
      "  inflating: 1SynChro/Opscan/matrices/PAM280  \n",
      "  inflating: 1SynChro/Opscan/matrices/BLOSUM70  \n",
      "  inflating: 1SynChro/Opscan/matrices/PAM420  \n",
      "  inflating: 1SynChro/Opscan/matrices/PAM460  \n",
      "  inflating: 1SynChro/Opscan/matrices/BLOSUM35  \n",
      "  inflating: 1SynChro/Opscan/matrices/PAM390  \n",
      "  inflating: 1SynChro/Opscan/matrices/PAM370  \n",
      "  inflating: 1SynChro/Opscan/matrices/PAM240  \n",
      "  inflating: 1SynChro/Opscan/matrices/PAM430  \n",
      "   creating: 1SynChro/Opscan/samples/\n",
      "  inflating: 1SynChro/Opscan/samples/COMMANDE2  \n",
      "  inflating: 1SynChro/Opscan/samples/gen1  \n",
      "  inflating: 1SynChro/Opscan/samples/operon.subt-hut  \n",
      "  inflating: 1SynChro/Opscan/samples/myge_189_195.prt  \n",
      "  inflating: 1SynChro/Opscan/samples/verif_class1.awk  \n",
      "  inflating: 1SynChro/Opscan/samples/clu.csh  \n",
      "  inflating: 1SynChro/Opscan/samples/mypn_12_21.prt  \n",
      "  inflating: 1SynChro/Opscan/samples/ope1  \n",
      "  inflating: 1SynChro/Opscan/samples/COMMANDE3  \n",
      "  inflating: 1SynChro/Opscan/samples/myge_operon_fasta.db  \n",
      "   creating: 1SynChro/Opscan/samples/CVS/\n",
      "  inflating: 1SynChro/Opscan/samples/CVS/Entries  \n",
      " extracting: 1SynChro/Opscan/samples/CVS/Root  \n",
      "   creating: 1SynChro/Opscan/samples/CVS/PaxHeader/\n",
      "  inflating: 1SynChro/Opscan/samples/CVS/PaxHeader/Entries  \n",
      "  inflating: 1SynChro/Opscan/samples/CVS/PaxHeader/Root  \n",
      "  inflating: 1SynChro/Opscan/samples/CVS/PaxHeader/Repository  \n",
      " extracting: 1SynChro/Opscan/samples/CVS/Repository  \n",
      "  inflating: 1SynChro/Opscan/samples/COMMANDE  \n",
      "  inflating: 1SynChro/Opscan/samples/basu_ex_op.db  \n",
      "  inflating: 1SynChro/Opscan/samples/operon.subt-rbs  \n",
      "  inflating: 1SynChro/Opscan/samples/myge_part_operon_fasta.db  \n",
      "  inflating: 1SynChro/Opscan/samples/genome_sample.db  \n",
      "  inflating: 1SynChro/Opscan/samples/operon_sample.db  \n",
      "  inflating: 1SynChro/Opscan/samples/cluster.33.G2  \n",
      "  inflating: 1SynChro/Opscan/samples/COMMANDE4  \n",
      "   creating: 1SynChro/Opscan/samples/PaxHeader/\n",
      "  inflating: 1SynChro/Opscan/samples/PaxHeader/COMMANDE2  \n",
      "  inflating: 1SynChro/Opscan/samples/PaxHeader/gen1  \n",
      "  inflating: 1SynChro/Opscan/samples/PaxHeader/operon.subt-hut  \n",
      "  inflating: 1SynChro/Opscan/samples/PaxHeader/myge_189_195.prt  \n",
      "  inflating: 1SynChro/Opscan/samples/PaxHeader/verif_class1.awk  \n",
      "  inflating: 1SynChro/Opscan/samples/PaxHeader/clu.csh  \n",
      "  inflating: 1SynChro/Opscan/samples/PaxHeader/mypn_12_21.prt  \n",
      "  inflating: 1SynChro/Opscan/samples/PaxHeader/ope1  \n",
      "  inflating: 1SynChro/Opscan/samples/PaxHeader/COMMANDE3  \n",
      "  inflating: 1SynChro/Opscan/samples/PaxHeader/myge_operon_fasta.db  \n",
      "  inflating: 1SynChro/Opscan/samples/PaxHeader/CVS  \n",
      "  inflating: 1SynChro/Opscan/samples/PaxHeader/COMMANDE  \n",
      "  inflating: 1SynChro/Opscan/samples/PaxHeader/basu_ex_op.db  \n",
      "  inflating: 1SynChro/Opscan/samples/PaxHeader/operon.subt-rbs  \n",
      "  inflating: 1SynChro/Opscan/samples/PaxHeader/myge_part_operon_fasta.db  \n",
      "  inflating: 1SynChro/Opscan/samples/PaxHeader/genome_sample.db  \n",
      "  inflating: 1SynChro/Opscan/samples/PaxHeader/operon_sample.db  \n",
      "  inflating: 1SynChro/Opscan/samples/PaxHeader/cluster.33.G2  \n",
      "  inflating: 1SynChro/Opscan/samples/PaxHeader/COMMANDE4  \n",
      "  inflating: 1SynChro/Opscan/samples/PaxHeader/COMMANDE5bis  \n",
      "  inflating: 1SynChro/Opscan/samples/PaxHeader/cluster.33.G1  \n",
      "  inflating: 1SynChro/Opscan/samples/PaxHeader/cluster.42.G1  \n",
      "  inflating: 1SynChro/Opscan/samples/PaxHeader/myge.12.prt  \n",
      "  inflating: 1SynChro/Opscan/samples/PaxHeader/sep_class.awk  \n",
      "  inflating: 1SynChro/Opscan/samples/PaxHeader/COMMANDE9  \n",
      "  inflating: 1SynChro/Opscan/samples/PaxHeader/purKesco.fasta  \n",
      "  inflating: 1SynChro/Opscan/samples/PaxHeader/COMMANDE6  \n",
      "  inflating: 1SynChro/Opscan/samples/PaxHeader/esco_ex_gn.db  \n",
      "  inflating: 1SynChro/Opscan/samples/PaxHeader/COMMANDE7  \n",
      "  inflating: 1SynChro/Opscan/samples/PaxHeader/mypn.12.prt  \n",
      "  inflating: 1SynChro/Opscan/samples/PaxHeader/purKbasu.fasta  \n",
      "  inflating: 1SynChro/Opscan/samples/PaxHeader/verif_class2.awk  \n",
      "  inflating: 1SynChro/Opscan/samples/PaxHeader/cluster.42.G2  \n",
      "  inflating: 1SynChro/Opscan/samples/PaxHeader/urur_part_genome_fasta.db  \n",
      "  inflating: 1SynChro/Opscan/samples/PaxHeader/COMMANDE5  \n",
      "  inflating: 1SynChro/Opscan/samples/COMMANDE5bis  \n",
      "  inflating: 1SynChro/Opscan/samples/cluster.33.G1  \n",
      "  inflating: 1SynChro/Opscan/samples/cluster.42.G1  \n"
     ]
    },
    {
     "name": "stdout",
     "output_type": "stream",
     "text": [
      "  inflating: 1SynChro/Opscan/samples/myge.12.prt  \r\n",
      "  inflating: 1SynChro/Opscan/samples/sep_class.awk  \r\n",
      "  inflating: 1SynChro/Opscan/samples/COMMANDE9  \r\n",
      "  inflating: 1SynChro/Opscan/samples/purKesco.fasta  \r\n",
      "  inflating: 1SynChro/Opscan/samples/COMMANDE6  \r\n",
      "  inflating: 1SynChro/Opscan/samples/esco_ex_gn.db  \r\n",
      "  inflating: 1SynChro/Opscan/samples/COMMANDE7  \r\n",
      "  inflating: 1SynChro/Opscan/samples/mypn.12.prt  \r\n",
      "  inflating: 1SynChro/Opscan/samples/purKbasu.fasta  \r\n",
      "  inflating: 1SynChro/Opscan/samples/verif_class2.awk  \r\n",
      "  inflating: 1SynChro/Opscan/samples/cluster.42.G2  \r\n",
      "  inflating: 1SynChro/Opscan/samples/urur_part_genome_fasta.db  \r\n",
      "  inflating: 1SynChro/Opscan/samples/COMMANDE5  \r\n",
      "  inflating: 1SynChro/n01Genomes.py  \r\n",
      "  inflating: 1SynChro/n04SVGPicture.py  \r\n"
     ]
    }
   ],
   "source": [
    "!curl -O http://www.lcqb.upmc.fr/CHROnicle/telechargements/CHROnicle.zip\n",
    "!unzip CHROnicle.zip\n",
    "!rm CHROnicle.zip\n",
    "!curl -O http://www.lcqb.upmc.fr/CHROnicle/telechargements/SynChro_linux.zip\n",
    "!unzip SynChro_linux.zip\n",
    "!rm SynChro_linux.zip\n",
    "!mv 1SynChro CHROnicle/Programs/"
   ]
  },
  {
   "cell_type": "markdown",
   "metadata": {},
   "source": [
    "The files installed include examples for yeast that mirror what is examined in the Quick Start and so really the next line skips right to step #3 of the Quick start."
   ]
  },
  {
   "cell_type": "markdown",
   "metadata": {},
   "source": [
    "I have found running this step with all the example files takes a long time. If you want to run things quickly with just three genomes, run the next cell to delete some of the genomic data to leave just three."
   ]
  },
  {
   "cell_type": "code",
   "execution_count": null,
   "metadata": {},
   "outputs": [],
   "source": [
    "%cd CHROnicle/Yeast/01Genomes\n",
    "!rm -rf LAWA*"
   ]
  },
  {
   "cell_type": "code",
   "execution_count": 17,
   "metadata": {},
   "outputs": [
    {
     "name": "stdout",
     "output_type": "stream",
     "text": [
      "/home/jovyan/CHROnicle/Programs/1SynChro\n"
     ]
    }
   ],
   "source": [
    "%cd ~/CHROnicle/Programs/1SynChro/"
   ]
  },
  {
   "cell_type": "code",
   "execution_count": 24,
   "metadata": {},
   "outputs": [
    {
     "name": "stdout",
     "output_type": "stream",
     "text": [
      "/home/jovyan/CHROnicle/Programs/1SynChro/Summary\r\n"
     ]
    }
   ],
   "source": [
    "!pwd"
   ]
  },
  {
   "cell_type": "code",
   "execution_count": 18,
   "metadata": {},
   "outputs": [
    {
     "name": "stdout",
     "output_type": "stream",
     "text": [
      "['CAGL', 'SACE']\n",
      "[['A', 'B', 'C', 'D', 'E', 'F', 'G', 'H', 'I', 'J', 'K', 'L', 'M'], ['I', 'II', 'III', 'IV', 'V', 'VI', 'VII', 'VIII', 'IX', 'X', 'XI', 'XII', 'XIII', 'XIV', 'XV', 'XVI']] [[28, 420, 620, 941, 1092, 1366, 1693, 2567, 2972, 3191, 3757, 4625, 5297], [87, 258, 664, 1046, 1737, 2055, 2409, 2793, 3259, 3563, 3982, 4164, 4835, 5566, 5837, 6564]] [[212, 439, 679, 984, 1273, 1673, 2130, 2606, 3097, 3633, 4216, 4823, 5461], [122, 590, 778, 1637, 1973, 2121, 2729, 3057, 3309, 3731, 4091, 4679, 5198, 5648, 6264, 6788]]\n",
      "./go_syntorthdist 2 Yeast CAGL.SACE\n",
      "../../Yeast/11Blocks/Delta2/RBHBlocks/CAGL.SACE.rbh.synt\n",
      "PairsFile Modification\n",
      "orthologsNonBDBH(CAGL,SACE) finished\n",
      "PairsFile Modification\n",
      "orthologsNonBDBH(SACE,CAGL) finished\n",
      "../../Yeast/11Blocks/Delta2/RBHBlocks/CAGL.SACE.rbh.synt\n",
      "13 [212, 439, 679, 984, 1273, 1673, 2130, 2606, 3097, 3633, 4216, 4823, 5461]\n",
      "16 [122, 590, 778, 1637, 1973, 2121, 2729, 3057, 3309, 3731, 4091, 4679, 5198, 5648, 6264, 6788]\n",
      "recap(CAGL,SACE) finished\n"
     ]
    }
   ],
   "source": [
    "%run ./SynChro.py Yeast 0 2"
   ]
  },
  {
   "cell_type": "code",
   "execution_count": null,
   "metadata": {},
   "outputs": [],
   "source": [
    "!head ../../Yeast/11Blocks/Delta2/RBHBlocks/CAGL.SACE.rbh.synt"
   ]
  },
  {
   "cell_type": "markdown",
   "metadata": {},
   "source": [
    "Although not described in any depth in the Quick start, a lot information is generated beyond `../../Yeast/11Blocks/Delta2/RBHBlocks/CAGL.SACE.rbh.synt` listed among the output above. Some of it will be displayed and accessing it discussed in the 'Beyond the Quick start' and subsequent sections below."
   ]
  },
  {
   "cell_type": "markdown",
   "metadata": {},
   "source": [
    "**Step #4**:Generate a table summarizing the properties of synteny blocks "
   ]
  },
  {
   "cell_type": "code",
   "execution_count": 19,
   "metadata": {},
   "outputs": [
    {
     "name": "stdout",
     "output_type": "stream",
     "text": [
      "/home/jovyan/CHROnicle/Programs/1SynChro/Summary\n"
     ]
    }
   ],
   "source": [
    "%cd ~/CHROnicle/Programs/1SynChro/Summary/"
   ]
  },
  {
   "cell_type": "code",
   "execution_count": 20,
   "metadata": {},
   "outputs": [],
   "source": [
    "! ./Summary.sh Yeast 2"
   ]
  },
  {
   "cell_type": "code",
   "execution_count": null,
   "metadata": {},
   "outputs": [],
   "source": [
    "The result from that can be found in the `CHROnicle/Yeast/11Blocks/Delta2/` directory as `SummaryY2.txt`"
   ]
  },
  {
   "cell_type": "code",
   "execution_count": null,
   "metadata": {},
   "outputs": [],
   "source": [
    "!cat ~/CHROnicle/Yeast/11Blocks/Delta2/SummaryY2.txt"
   ]
  },
  {
   "cell_type": "markdown",
   "metadata": {},
   "source": [
    "**Step #5**:Plot some of these block properties.\n",
    "\n",
    "The command in the Quick start lists the name of the shell script to run as `PercentGenomefDiv.sh` but it is actually `PercentGenomfDiv.sh` in the files unpacked in the preparation step above. Let's change it to match the Quick Start."
   ]
  },
  {
   "cell_type": "code",
   "execution_count": 25,
   "metadata": {},
   "outputs": [],
   "source": [
    "%cd ~/CHROnicle/Programs/1SynChro/Summary/\n",
    "!mv PercentGenomfDiv.sh PercentGenomefDiv.sh"
   ]
  },
  {
   "cell_type": "code",
   "execution_count": 32,
   "metadata": {},
   "outputs": [
    {
     "name": "stdout",
     "output_type": "stream",
     "text": [
      "Warning: empty x range [32.9394:32.9394], adjusting to [32.61:33.2688]\n",
      "Warning: empty x range [32.9394:32.9394], adjusting to [32.61:33.2688]\n"
     ]
    }
   ],
   "source": [
    "! ./PercentGenomefDiv.sh Yeast 2"
   ]
  },
  {
   "cell_type": "markdown",
   "metadata": {},
   "source": [
    "I had problem with that script outputing `.eps` files I couldn't open anywhere. I used information at https://stackoverflow.com/a/35386570/8508004 to edit `PercentGenomefDiv.sh` to output `svg` by editing lines 10 and 11 to read:\n",
    "```\n",
    "set term svg\n",
    "set output \"../../../$1/11Blocks/Delta$2/PercentGenomfDiv$2.svg\"\n",
    "```\n",
    "\n",
    "I was able to download that output and open it in chrome but it said there was an error that xml declaration cannot be later in file. I looked and it seemed like it was supposed to be start of a new file. Seems that command is producing two images into one `svg` file??"
   ]
  },
  {
   "cell_type": "markdown",
   "metadata": {},
   "source": [
    "**Step #6**: Reconstruct families of syntenic homologs."
   ]
  },
  {
   "cell_type": "code",
   "execution_count": 33,
   "metadata": {},
   "outputs": [
    {
     "name": "stdout",
     "output_type": "stream",
     "text": [
      "/home/jovyan/CHROnicle/Programs/1SynChro\n"
     ]
    }
   ],
   "source": [
    "%cd ~/CHROnicle/Programs/1SynChro/"
   ]
  },
  {
   "cell_type": "code",
   "execution_count": 34,
   "metadata": {},
   "outputs": [
    {
     "name": "stdout",
     "output_type": "stream",
     "text": [
      "/home/jovyan/CHROnicle/Programs/1SynChro\r\n"
     ]
    }
   ],
   "source": [
    "!pwd"
   ]
  },
  {
   "cell_type": "code",
   "execution_count": 36,
   "metadata": {},
   "outputs": [
    {
     "name": "stdout",
     "output_type": "stream",
     "text": [
      "2 ['CAGL', 'SACE']\n"
     ]
    }
   ],
   "source": [
    "%run ./InterOrtho.py Yeast 2 80"
   ]
  },
  {
   "cell_type": "markdown",
   "metadata": {},
   "source": [
    "Result for that is in the `CHROnicle/Yeast/12OrthFamilies/Delta2/` directory in form of a FASTA file for each set of orthologs meeting the threshold.\n",
    "\n",
    "One example generated is shown in the next cell."
   ]
  },
  {
   "cell_type": "code",
   "execution_count": null,
   "metadata": {},
   "outputs": [],
   "source": [
    "# Example\n",
    "!cat ~CHROnicle/Yeast/12OrthFamilies/Delta2Prot_00001.fasta"
   ]
  },
  {
   "cell_type": "markdown",
   "metadata": {},
   "source": [
    "### Beyond the Quick start \n",
    "\n",
    "There is much additional data revealed that the Quick start doesn't cover. For example see [Figure 1 of the accompanying article](https://doi.org/10.1371/journal.pone.0092621.g001) and in the 'Output Description' section of `README_SynChro.txt` in the `CHROnicle/Programs/1SynChro/` directory. \n",
    "\n",
    "The 'Output Description' of the README is partiocularly helpful in guiding you in what is generated and where to look for the various computed results."
   ]
  },
  {
   "cell_type": "markdown",
   "metadata": {},
   "source": [
    "#### Viewing additional visualizations\n",
    "\n",
    "- dotplot\n",
    "- chromosomal painting representations"
   ]
  },
  {
   "cell_type": "code",
   "execution_count": null,
   "metadata": {},
   "outputs": [],
   "source": [
    "from IPython.core.display import SVG\n",
    "SVG(filename='~/CHROnicle/Yeast/11Blocks/Delta2/Dotplots/dotplot.CAGL.SACE.2.svg')"
   ]
  },
  {
   "cell_type": "code",
   "execution_count": null,
   "metadata": {},
   "outputs": [],
   "source": [
    "from IPython.core.display import SVG\n",
    "SVG(filename='~/CHROnicle/Yeast/11Blocks/Delta2/G1fG2/CAGL.SACEfCAGL.2.svg')"
   ]
  },
  {
   "cell_type": "code",
   "execution_count": null,
   "metadata": {},
   "outputs": [],
   "source": [
    "from IPython.core.display import SVG\n",
    "SVG(filename='~/CHROnicle/Yeast/11Blocks/Delta2/G1fG2/SACE.CAGLfSACE.2.svg')"
   ]
  },
  {
   "cell_type": "markdown",
   "metadata": {},
   "source": [
    "### Where to next?\n",
    "\n",
    "Hopefully, the above examples have demonstrated you now have an environment that you can run SynChro and generate some useful results. Your next step would be to add your data and repeat. You can get to the Jupyter Dashboard by clicking the the Jupyter logo in the upper left corner of this notebook. There you can upload files from your computer using a typical GUI file handling interface. Or, you can use the command line to retrieve files.\n",
    "\n",
    "Note that you can also use that same Jupyter Dashboard, to launch new notebooks to start working with your own data in a fresh notebook in the same session as you ran the examples above.\n",
    "\n",
    "Remember that if you make any useful files to get them ASAP as these Binder-associated instances are temporary."
   ]
  }
 ],
 "metadata": {
  "kernelspec": {
   "display_name": "Python 2",
   "language": "python",
   "name": "python2"
  }
 },
 "nbformat": 4,
 "nbformat_minor": 2
}
